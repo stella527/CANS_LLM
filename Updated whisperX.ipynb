{
 "cells": [
  {
   "cell_type": "code",
   "execution_count": 2,
   "id": "c2262a15-570e-4e1d-ae61-3b0f5cb33fc5",
   "metadata": {
    "scrolled": true
   },
   "outputs": [
    {
     "name": "stderr",
     "output_type": "stream",
     "text": [
      "C:\\Users\\stell\\AppData\\Local\\Temp\\ipykernel_16236\\192626917.py:5: UserWarning: pkg_resources is deprecated as an API. See https://setuptools.pypa.io/en/latest/pkg_resources.html. The pkg_resources package is slated for removal as early as 2025-11-30. Refrain from using this package or pin to Setuptools<81.\n",
      "  import pkg_resources\n"
     ]
    },
    {
     "name": "stdout",
     "output_type": "stream",
     "text": [
      "No language specified, language will be first be detected for each audio file (increases inference time).\n",
      ">>Performing voice activity detection using Pyannote...\n"
     ]
    },
    {
     "name": "stderr",
     "output_type": "stream",
     "text": [
      "C:\\Users\\stell\\miniconda3\\envs\\eelbrain\\Lib\\inspect.py:1007: UserWarning: Module 'speechbrain.pretrained' was deprecated, redirecting to 'speechbrain.inference'. Please update your script. This is a change from SpeechBrain 1.0. See: https://github.com/speechbrain/speechbrain/releases/tag/v1.0.0\n",
      "  if ismodule(module) and hasattr(module, '__file__'):\n",
      "Lightning automatically upgraded your loaded checkpoint from v1.5.4 to v2.5.1.post0. To apply the upgrade to your files permanently, run `python -m pytorch_lightning.utilities.upgrade_checkpoint C:\\Users\\stell\\miniconda3\\envs\\eelbrain\\Lib\\site-packages\\whisperx\\assets\\pytorch_model.bin`\n"
     ]
    },
    {
     "name": "stdout",
     "output_type": "stream",
     "text": [
      "Model was trained with pyannote.audio 0.0.1, yours is 3.3.2. Bad things might happen unless you revert pyannote.audio to 0.x.\n",
      "Model was trained with torch 1.10.0+cu102, yours is 2.7.1+cpu. Bad things might happen unless you revert torch to 1.x.\n"
     ]
    }
   ],
   "source": [
    "import pytorch_lightning as pl\n",
    "import torch\n",
    "import whisperx\n",
    "import gc\n",
    "import pkg_resources\n",
    "import pandas as pd\n",
    "from phonemizer import phonemize\n",
    "import os\n",
    "import matplotlib.pyplot as plt\n",
    "\n",
    "device = \"cuda:0\" if torch.cuda.is_available() else \"cpu\"\n",
    "#torch_dtype = torch.float16 if torch.cuda.is_available() else torch.float32\n",
    "\n",
    "\n",
    "# 1. Transcribe with original whisper (batched)\n",
    "#model = whisperx.load_model(\"large-v2\", device, compute_type=compute_type)\n",
    "#model = whisperx.load_model(\"medium.en\", device)\n",
    "\n",
    "compute_type = \"float16\" if torch.cuda.is_available() else \"float32\"\n",
    "model = whisperx.load_model(\"large-v2\", device=device, compute_type=compute_type)\n",
    "\n",
    "audio_folder = \"C:/Users/stell/OneDrive/desktop/CANS_LAB/Female_Single_Speakers\"\n",
    "output_folder = \"C:/Users/stell/OneDrive/desktop/CANS_LAB/output_timings\"\n",
    "\n",
    "\n"
   ]
  },
  {
   "cell_type": "code",
   "execution_count": 27,
   "id": "39c091a8-3fb4-4cda-8c1e-ae1454ddd87e",
   "metadata": {},
   "outputs": [],
   "source": [
    "import os\n",
    "import string\n",
    "\n",
    "\n",
    "def process_audio(audio_path):\n",
    "    \n",
    "    audio = whisperx.load_audio(audio_path, sr = 16000)\n",
    "    result = model.transcribe(audio)#, batch_size=batch_size)\n",
    "    print(result[\"segments\"]) # before alignment\n",
    "\n",
    "    \n",
    "    #Load alignment model + align\n",
    "    align_model, metadata = whisperx.load_align_model(model_name = \"jonatasgrosman/wav2vec2-large-xlsr-53-english\", device=device, language_code = 'en')\n",
    "    #align_model, metadata = whisperx.load_align_model(language_code=result[\"language\"], device=device)\n",
    "    \n",
    "    # Add word-level timestamps\n",
    "    result_aligned = whisperx.align(result[\"segments\"], align_model, metadata, audio, device, return_char_alignments=False)\n",
    "    #result_aligned = whisperx.(phoneme_transcript, align_model, metadata, audio, device)\n",
    "\n",
    "    return result_aligned\n",
    "    \n",
    "\n",
    "# removes any punctuations from string\n",
    "def remove_punctuation(text):\n",
    "    # keep apostrophes though\n",
    "    punc = '''!()-[]{};:\",<>./?@#$%^&*_~'''\n",
    "    for ch in punc:\n",
    "        text = text.replace(ch, \"\")\n",
    "    return text\n",
    "\n",
    "def get_timings(result_aligned):\n",
    "    word_data = []\n",
    "    phoneme_data = []\n",
    "    # get word-level timings\n",
    "    # get word-level timings\n",
    "    for seg in result_aligned[\"segments\"]:\n",
    "        for word in seg[\"words\"]:\n",
    "            #remove punctuation and change to all lower case\n",
    "            no_punc = remove_punctuation(word[\"word\"]).lower()\n",
    "               \n",
    "            #print(f\"{word['word']}: {word['start']:.4f}s - {word['end']:.4f}s\")\n",
    "          \n",
    "            word_data.append({\n",
    "                \"Word\": no_punc,\n",
    "                \"Start\": round(word[\"start\"], 7),\n",
    "                \"End\": round(word[\"end\"], 7)\n",
    "            })\n",
    "    df_word_whisper = pd.DataFrame(word_data)\n",
    "    \n",
    "    return df_word_whisper\n",
    "\n",
    "    \n",
    "        \n"
   ]
  },
  {
   "cell_type": "code",
   "execution_count": 28,
   "id": "dceb7866-f93b-4b43-b332-f168baff357d",
   "metadata": {},
   "outputs": [
    {
     "name": "stdout",
     "output_type": "stream",
     "text": [
      "\n",
      "Processing: F01_single105.wav\n",
      "Detected language: en (1.00) in first 30s of audio...\n",
      "[{'text': ' In the bosom of one of those spacious coves which indent the eastern shore of the Hudson, at that broad expansion of the river, denominated by the ancient Dutch navigators the Tappan Zee, there lies a small market town, or rural port, which by some is called Greensburg, but which is more generally and properly known by the name of Tarrytown. This name was given, we are told, in former days, by the good housewives of the adjacent country,', 'start': 0.031, 'end': 29.545}, {'text': ' from the inveterate propensity of their husbands to linger about the village tavern on market days. Not far from this village, perhaps about two miles, there is a little valley, or rather lap of land, among high hills, which is one of the quietest places in the whole world. From the listless repose of the place, and the peculiar character of its inhabitants, who are descendants from the original Dutch settlers, this sequestered glen', 'start': 29.9, 'end': 59.431}, {'text': ' has long been known by the name of Sleepy Hollow.', 'start': 59.633, 'end': 62.468}]\n",
      "Saved CSV: C:/Users/stell/OneDrive/desktop/CANS_LAB/output_timings\\F01_single105_whisperx.csv\n",
      "\n",
      "Processing: F03_single105.wav\n",
      "Detected language: en (1.00) in first 30s of audio...\n",
      "[{'text': ' Such is the general pauport of this legendary superstition, which has furnished materials for many a wild story in that region of shadows, and the spectre is known at all the country firesides by the name of the Headless Horseman of Sleepy Hollow. In this bi-place of nature there abode, in a remote period of American history, that is to say some thirty years since, a worthy wight of the name of Ichabod Crane, who sojourned', 'start': 0.031, 'end': 29.933}, {'text': ' or, as he expressed it, tarried in sleepy hollow, for the purpose of instructing the children of the vicinity. He was tall, but exceedingly lank, with narrow shoulders, long arms and legs, hands that dangled a mile out of his sleeves, feet that might have served for shovels, and his whole frame most loosely hung together. His head was small and flat at top, with huge ears, large green glassy eyes,', 'start': 30.187, 'end': 59.971}]\n",
      "Saved CSV: C:/Users/stell/OneDrive/desktop/CANS_LAB/output_timings\\F03_single105_whisperx.csv\n",
      "\n",
      "Processing: F05_single105.wav\n",
      "Detected language: en (1.00) in first 30s of audio...\n",
      "[{'text': ' When school hours were over, he was even the companion and playmate of the larger boys, and on holiday afternoons would convey some of the smaller ones home, who happened to have pretty sisters, or good housewives for mothers, noted for the comforts of the cupboard. Indeed, it behooved him to keep on good terms with his pupils. The revenue arising from his school was small, and would have been scarcely sufficient to furnish him with daily bread, for he was a huge feeder.', 'start': 0.031, 'end': 28.803}, {'text': ' and though lank, had the dilating powers of an anaconda. But to help out his maintenance he was, according to country custom in those parts, boarded and lodged at the houses of the farmers whose children he instructed. With these he lived successively a week at a time, thus going the rounds of the neighbourhood, with all his worldly effects tied up in a cotton handkerchief. That all this might not be too onerous on the purses of his rustic patrons,', 'start': 29.107, 'end': 56.798}, {'text': ' who are apt to consider the costs of schooling a grievous burden.', 'start': 57.085, 'end': 60.713}]\n",
      "Saved CSV: C:/Users/stell/OneDrive/desktop/CANS_LAB/output_timings\\F05_single105_whisperx.csv\n",
      "\n",
      "Processing: F07_single105.wav\n",
      "Detected language: en (1.00) in first 30s of audio...\n",
      "[{'text': ' He was, in fact, an odd mixture of small shrewdness and simple credulity. His appetite for the marvellous and his powers of digesting it were equally extraordinary, and both had been increased by his residence in this spellbound region. No tale was too gross or monstrous for his capacious swallow. It was often his delight, after his school was dismissed in the afternoon, to stretch himself on the rich bed of clover', 'start': 0.031, 'end': 29.461}, {'text': \" bordering the little brook that whimpered by his schoolhouse, and there con over old Mather's direful tales, until the gathering dusk of the evening made the printed page a mere mist before his eyes. Another of his sources of fearful pleasure was to pass long winter evenings with the old Dutch wives, as they sat spinning by the fire, with a row of apples roasting and spluttering along the hearth,\", 'start': 29.748, 'end': 56.41}, {'text': ' and listen to their marvelous tales of ghosts and goblins.', 'start': 56.748, 'end': 59.971}]\n",
      "Saved CSV: C:/Users/stell/OneDrive/desktop/CANS_LAB/output_timings\\F07_single105_whisperx.csv\n",
      "\n",
      "Processing: F11_single105.wav\n",
      "Detected language: en (1.00) in first 30s of audio...\n",
      "[{'text': ' Ichabod, on the contrary, had to win his way to the heart of a country coquette, beset with a labyrinth of whims and caprices which were forever presenting new difficulties and impediments, and he had to encounter a host of fearful adversaries of real flesh and blood, the numerous rustic admirers, who beset every portal to her heart, keeping a watchful and angry eye upon each other, but ready to fly out in the common cause against any new competitor.', 'start': 0.031, 'end': 29.343}, {'text': ' Among these, the most formidable was a burly, roaring, roistering blade of the name of Abraham, or, according to the Dutch abbreviation, Bram van Brunt, the hero of the country round, which rang with his feats of strength and hardyhood. He was broad-shouldered and double-jointed, with short curly black hair, and a bluff but not unpleasant face, having a mingled air of fun and arrogance, from his Herculean frame and great powers of limb', 'start': 29.613, 'end': 59.296}, {'text': ' He had received the nickname', 'start': 59.633, 'end': 61.085}]\n",
      "Saved CSV: C:/Users/stell/OneDrive/desktop/CANS_LAB/output_timings\\F11_single105_whisperx.csv\n",
      "\n",
      "Processing: F12_single105.wav\n",
      "Detected language: en (1.00) in first 30s of audio...\n",
      "[{'text': \" He was always ready for either a fight or a frolic, but had more mischief than ill-will in his composition, and with all his overbearing roughness there was a strong dash of waggish good-humour at bottom. He had three or four boon companions, who regarded him as their model, and at the head of whom he scoured the country, attending every scene of feud or merriment from miles around. In cold weather he was distinguished by a fur cap, surmounted with a flaunting fox's\", 'start': 0.031, 'end': 29.883}, {'text': ' And when the folks at a country gathering described this well-known crest at a distance, whisking about among a squad of hard riders, they always stood by for a squall. Sometimes his crew would be heard dashing along past the farmhouses at midnight with a whoop and a hello, like a troop of Don Cossacks. And the old dames, startled out of their sleep, would listen for a moment till the hurry scurry had clattered by and then exclaimed, hey, there goes Brom Bones and his gang.', 'start': 30.187, 'end': 58.857}, {'text': ' The neighbors looked upon him with', 'start': 59.245, 'end': 60.73}]\n",
      "Saved CSV: C:/Users/stell/OneDrive/desktop/CANS_LAB/output_timings\\F12_single105_whisperx.csv\n",
      "\n",
      "Processing: F15_single105.wav\n",
      "Detected language: en (1.00) in first 30s of audio...\n",
      "[{'text': ' In this way matters went on for some time, without producing any material effect on the relative situation of the contending powers. On a fine autumn afternoon Ichabod, in a pensive mood, sat enthroned on the lofty stool whence he usually watched all the concerns of his little literary realm. Apparently there had been some appalling act of justice recently inflicted, for his scholars were all busily intent upon their books.', 'start': 0.031, 'end': 28.347}, {'text': \" or slyly whispering behind them with one eye kept upon the master, and a kind of buzzing stillness reigned throughout the schoolroom. It was suddenly interrupted by the appearance of a young man. He came clattering up to the school door with an invitation to Ichabod to attend a merrymaking, or quilting frolic, to be held that evening at Meinhier von Tassel's. All was now bustle and hubbub in the late quiet schoolroom,\", 'start': 28.786, 'end': 55.617}, {'text': ' The scholars were hurried through their lessons without stopping at trifles, and the whole school was', 'start': 55.82, 'end': 61.085}]\n",
      "Saved CSV: C:/Users/stell/OneDrive/desktop/CANS_LAB/output_timings\\F15_single105_whisperx.csv\n",
      "\n",
      "Processing: F16_single105.wav\n",
      "Detected language: en (1.00) in first 30s of audio...\n",
      "[{'text': ' that he might make his appearance before his mistress in the true style of a cavalier, he borrowed a horse from the farmer with whom he was domiciled, a choleric old Dutchman of the name of Hans von Ripper, and thus gallantly mounted issued forth like a knight errant in quest of adventures. But it is meet I should, in the true spirit of romantic story, give some account of the looks and equipments of my hero and his steed.', 'start': 0.031, 'end': 28.769}, {'text': ' The animal he bestrode was a broken-down plow-horse that had outlived almost everything but his viciousness. He was gaunt and shagged, with a ewe-neck and a head like a hammer. His rusty mane and tail were tangled and knotted with burrs. One eye had lost its pupil and was glaring and spectral, but the other had the gleam of a genuine devil in it. Still, he must have had fire and metal in his day.', 'start': 29.073, 'end': 57.035}, {'text': ' If we may judge from the name he bore of Gunpowder, he had in fact been a favorite steed of his', 'start': 57.288, 'end': 62.89}]\n",
      "Saved CSV: C:/Users/stell/OneDrive/desktop/CANS_LAB/output_timings\\F16_single105_whisperx.csv\n",
      "\n",
      "Processing: F19_single105.wav\n",
      "Detected language: en (1.00) in first 30s of audio...\n",
      "[{'text': ' Rom Bones, however, was the hero of the scene, having come to the gathering on his favorite steed, Daredevil, a creature, like himself, full of mettle and mischief, and which no one but himself could manage. He was, in fact, noted for preferring vicious animals given to all kinds of tricks, which kept the rider in constant risk of his neck, for he held a tractable, well-broken horse as unworthy of a lad of spirit.', 'start': 0.031, 'end': 28.111}, {'text': \" Vain would I pause to dwell upon the world of charms that burst upon the enraptured gaze of my hero as he entered the state parlor of Van Tassel's mansion, not those of the bevy of bucks and lasses, with their luxurious display of red and white, but the ample charms of a genuine Dutch country tea-table in the sumptuous time of autumn, such heaped-up platters of cakes of various and almost indescribable kinds\", 'start': 28.398, 'end': 58.148}, {'text': ' known only to experienced Dutch housewives. There was the doughy', 'start': 58.486, 'end': 62.84}]\n",
      "Saved CSV: C:/Users/stell/OneDrive/desktop/CANS_LAB/output_timings\\F19_single105_whisperx.csv\n",
      "\n",
      "Processing: F21_single105.wav\n",
      "Detected language: en (1.00) in first 30s of audio...\n",
      "[{'text': ' Ichabod prided himself upon his dancing as much as upon his vocal powers. Not a limb, not a fibre about him was idle, and to have seen his loosely hung frame in full motion and clattering about the room, you would have thought St. Vitus himself, that blessed patron of the dance, was figuring before you in person. How could the flogger of urchins be otherwise than animated and joyous? The lady of his heart was his partner in the dance.', 'start': 0.031, 'end': 27.402}, {'text': ' and smiling graciously in reply to all his amorous ooglings, while Brom Bones, sorely smitten with love and jealousy, sat brooding by himself in one corner. When the dance was at an end, Ichabod was attracted to a knot of the Sager folks, who with old Von Tassel sat smoking at one end of the piazza, gossiping over former times and drawing out long stories about the war. The immediate cause,', 'start': 27.706, 'end': 56.09}, {'text': ' of the prevalence of supernatural stories in these parts.', 'start': 56.275, 'end': 59.853}]\n",
      "Saved CSV: C:/Users/stell/OneDrive/desktop/CANS_LAB/output_timings\\F21_single105_whisperx.csv\n",
      "\n",
      "Processing: F22_single105.wav\n",
      "Detected language: en (1.00) in first 30s of audio...\n",
      "[{'text': ' The sequestered situation of this church seems always to have made it a favorite haunt of troubled spirits. It stands on a knoll surrounded by locust trees and lofty elms. On one side of the church extends a wide woody dell, along which raves a large brook among broken rocks and trunks of fallen trees. Over a deep black part of the stream, not far from the church, was formerly thrown a wooden bridge.', 'start': 0.031, 'end': 27.723}, {'text': ' The road that led to it, and the bridge itself, were thickly shaded by overhanging trees, which cast a gloom about it even in daytime, but occasioned a fearful darkness at night. This was one of the favorite haunts of the headless horseman, and the place where he was most frequently encountered. The tale was told of old Brower, a staunch disbeliever in ghosts, how he met the horseman returning from his foray into Sleeping Hollow, and was obliged to get up behind him.', 'start': 28.077, 'end': 57.625}, {'text': ' how they galloped over bush and break, over hill and swamp,', 'start': 58.03, 'end': 61.22}]\n",
      "Saved CSV: C:/Users/stell/OneDrive/desktop/CANS_LAB/output_timings\\F22_single105_whisperx.csv\n",
      "\n",
      "Processing: F23_single105.wav\n",
      "Detected language: en (1.00) in first 30s of audio...\n",
      "[{'text': ' All these tales, told in that drowsy undertone with which men talk in the dark, the countenance of the listeners only now and then receiving a casual gleam from the glare of a pipe, sank deep in the mind of Ichabod. He repaid them in kind with large extracts from his invaluable author, Cotton Mather, and added many marvellous events that had taken place in his native state of Connecticut, and fearful sights which he had seen in his nightly walks about Sleepy Hollow.', 'start': 0.031, 'end': 28.448}, {'text': ' The revel now gradually broke up. The old farmers gathered together their families in their wagons, and were heard for some time rattling along the hollow roads and over the distant hills. Ichabod only lingered behind, according to the custom of country lovers, to have a tête-à-tête with the Harris, fully convinced that he was now on the high road to success. What passed at this interview I will not pretend to say, for in fact I do not know.', 'start': 28.769, 'end': 56.782}, {'text': ' Something, however, must have gone wrong.', 'start': 57.136, 'end': 59.684}]\n",
      "Saved CSV: C:/Users/stell/OneDrive/desktop/CANS_LAB/output_timings\\F23_single105_whisperx.csv\n"
     ]
    }
   ],
   "source": [
    "import os\n",
    "\n",
    "\n",
    "for filename in os.listdir(audio_folder):\n",
    "    if filename.lower().endswith(('.wav', '.mp3', '.flac')):\n",
    "        file_path = os.path.join(audio_folder, filename)\n",
    "        print(f\"\\nProcessing: {filename}\")\n",
    "\n",
    "        aligned = process_audio(file_path)\n",
    "        df = get_timings(aligned)\n",
    "\n",
    "        base_name = os.path.splitext(filename)[0] + \"_whisperx\"\n",
    "        csv_path = os.path.join(output_folder, f\"{base_name}.csv\")\n",
    "        df.to_csv(csv_path, index=False, float_format=\"%.7f\")\n",
    "        \n",
    "        print(f\"Saved CSV: {csv_path}\")\n",
    "        \n",
    "\n",
    "  "
   ]
  },
  {
   "cell_type": "code",
   "execution_count": 39,
   "id": "ee8b7c74-b2c9-4d76-b1e8-f35e0071437a",
   "metadata": {},
   "outputs": [],
   "source": [
    "\n",
    "original_timings = \"C:/Users/stell/OneDrive/desktop/CANS_LAB/original_timings\"\n",
    "\n",
    "for filename in os.listdir(original_timings):\n",
    "    if filename.lower().endswith('.csv'):\n",
    "\n",
    "        base_name = os.path.splitext(filename)[0] \n",
    "        \n",
    "        file_path = os.path.join(original_timings, filename)\n",
    "        df_OG = pd.read_csv(file_path)\n",
    "        \n",
    "        # Select rows with just words\n",
    "        words_OG_df = df_OG[df_OG[\"tier\"] == \"words\"]\n",
    "        # To select the current relevant columns -  word; start;end\n",
    "        df_OG_selected = words_OG_df[[\"text\", \"tier\", \"tmin\", \"tmax\"]]\n",
    "\n",
    "        # Reset index\n",
    "        df_OG_selected.reset_index(drop=True, inplace=True)\n",
    "\n",
    "        whisper_path = os.path.join(output_folder, f\"{base_name}_whisperx.csv\")\n",
    "       \n",
    "        df_whisper = pd.read_csv(whisper_path).reset_index(drop=True)\n",
    "        \n",
    "        #base_name = os.path.splitext(filename)[0]  + \"_whisperx\"  \n",
    "        combined_dir  = r\"C:/Users/stell/OneDrive/desktop/CANS_LAB/combined_timings\"\n",
    "        \n",
    "        combined_timings = pd.concat([df_OG_selected, df_whisper], axis=1)\n",
    "        out_path = os.path.join(combined_dir, f\"{base_name}_combined.csv\")\n",
    "        combined_timings.to_csv(out_path, index=False, float_format=\"%.7f\")\n",
    "\n",
    "        if os.path.exists(out_path):\n",
    "            os.remove(out_path)\n",
    "    \n",
    "        combined_timings.to_csv(out_path, index=False, float_format=\"%.7f\")\n",
    "\n",
    "\n",
    "\n",
    "\n"
   ]
  },
  {
   "cell_type": "code",
   "execution_count": 4,
   "id": "36fbcab5-3135-4b3c-a915-f1001fa90c99",
   "metadata": {},
   "outputs": [
    {
     "data": {
      "text/plain": [
       "Text(0, 0.5, 'Frequency')"
      ]
     },
     "execution_count": 4,
     "metadata": {},
     "output_type": "execute_result"
    },
    {
     "data": {
      "image/png": "[encoded data removed]",
      "text/plain": [
       "<Figure size 1200x800 with 2 Axes>"
      ]
     },
     "metadata": {},
     "output_type": "display_data"
    }
   ],
   "source": [
    "\n",
    "#Now let us analyze and compare one audio file\n",
    "\n",
    "chosen_path = r\"C:/Users/stell/OneDrive/desktop/CANS_LAB/combined_timings/F01_single105_combined.csv\"\n",
    "\n",
    "combined_df = pd.read_csv(chosen_path)\n",
    "\n",
    "# Detect word misalignments\n",
    "combined_df[\"word_prev\"] = combined_df[\"Word\"].shift(1)\n",
    "combined_df[\"start_prev\"] = combined_df[\"Start\"].shift(1)\n",
    "combined_df[\"end_prev\"] = combined_df[\"End\"].shift(1)\n",
    "\n",
    "# When there are misalignments (this is for only one specific case when whisper merges two words)\n",
    "for idx, row in combined_df.iterrows():\n",
    "    if row[\"text\"] != row[\"Word\"]:\n",
    "        \n",
    "        combined_df.at[idx, \"Start\"] = row[\"start_prev\"]\n",
    "        combined_df.at[idx, \"End\"] = row[\"end_prev\"]\n",
    "        \n",
    "        if row[\"text\"] == row[\"word_prev\"]:\n",
    "            combined_df.at[idx, \"Word\"] = row[\"word_prev\"]\n",
    "        \n",
    "#Delete the other columns when done with them      \n",
    "combined_df = combined_df.drop(columns=[\"word_prev\", \"start_prev\", \"end_prev\"])\n",
    "\n",
    "# In case the start timings do not begin at 0\n",
    "offset = combined_df[\"Start\"].iloc[0]\n",
    "\n",
    "# Shift all Start and End times to make the first word start at 0\n",
    "combined_df[\"Start\"] = combined_df[\"Start\"] - offset\n",
    "combined_df[\"End\"] = combined_df[\"End\"] - offset\n",
    "\n",
    "\n",
    "# For now, make them into a csv file\n",
    "combined_df.to_csv('compare_timings.csv', index = False)\n",
    "\n",
    "#Get the differences\n",
    "combined_df_start =  combined_df[\"Start\"] - combined_df[\"tmin\"]\n",
    "#print(\"start difference\\n\",combined_df_start)\n",
    "\n",
    "combined_df_end =  combined_df[\"tmax\"] - combined_df[\"End\"]\n",
    "#print(\"End difference\\n\", combined_df_end)\n",
    "\n",
    "duration_OG = combined_df[\"tmax\"] - combined_df[\"tmin\"]\n",
    "#print(\"duration OG\\n\", duration_OG)\n",
    "duration_whisper = combined_df[\"End\"] - combined_df[\"Start\"]\n",
    "#print(\"duration whisper\\n\", duration_whisper)\n",
    "\n",
    "\n",
    "\n",
    "\n",
    "plt.figure(figsize=(12, 8))\n",
    "\n",
    "# Histogram of Start difference\n",
    "plt.subplot(2, 2, 1)\n",
    "plt.hist(combined_df[\"Start\"] - combined_df[\"tmin\"], bins = 100, color='blue', edgecolor='black', range=(-0.1, 0.1))\n",
    "plt.title(\"Start Time Difference - Whisper X \")\n",
    "plt.xlabel(\"Start - tmin\")\n",
    "plt.ylabel(\"Frequency\")\n",
    "\n",
    "# Histogram of End difference\n",
    "plt.subplot(2, 2, 2)\n",
    "plt.hist(combined_df[\"End\"] - combined_df[\"tmax\"], bins = 100, color='red', edgecolor='black', range=(-0.1, 0.1))\n",
    "plt.title(\"End Time Difference -  Whisper X\")\n",
    "plt.xlabel(\"End - tmax\")\n",
    "plt.ylabel(\"Frequency\")\n",
    "\n"
   ]
  },
  {
   "cell_type": "code",
   "execution_count": 68,
   "id": "42d0c309-e02f-4aad-afca-506f7a08096f",
   "metadata": {},
   "outputs": [
    {
     "data": {
      "text/plain": [
       " 0.04    9\n",
       " 0.06    7\n",
       " 0.00    6\n",
       "-0.01    6\n",
       "-0.02    5\n",
       " 0.08    5\n",
       " 0.07    3\n",
       " 0.03    3\n",
       " 0.02    3\n",
       " 0.05    3\n",
       " 0.01    2\n",
       "-0.03    1\n",
       "-0.04    1\n",
       "-0.05    1\n",
       " 0.17    1\n",
       " 0.09    1\n",
       " 0.11    1\n",
       " 0.10    1\n",
       "-0.36    1\n",
       "Name: count, dtype: int64"
      ]
     },
     "execution_count": 68,
     "metadata": {},
     "output_type": "execute_result"
    }
   ],
   "source": [
    "(combined_df.iloc[:60][\"Start\"] - combined_df.iloc[:60][\"tmin\"]).round(2).value_counts()"
   ]
  },
  {
   "cell_type": "code",
   "execution_count": 1,
   "id": "9f04b200-c276-4627-bda0-91478dae6ce6",
   "metadata": {},
   "outputs": [
    {
     "ename": "NameError",
     "evalue": "name 'combined_df' is not defined",
     "output_type": "error",
     "traceback": [
      "\u001b[31m----------------------------------------------------------------\u001b[39m",
      "\u001b[31mNameError\u001b[39m                      Traceback (most recent call last)",
      "\u001b[36mCell\u001b[39m\u001b[36m \u001b[39m\u001b[32mIn[1]\u001b[39m\u001b[32m, line 2\u001b[39m\n\u001b[32m      1\u001b[39m \u001b[38;5;66;03m#Save to pickle\u001b[39;00m\n\u001b[32m----> \u001b[39m\u001b[32m2\u001b[39m \u001b[43mcombined_df\u001b[49m.to_pickle(\u001b[33m\"\u001b[39m\u001b[33m./dummy.pkl\u001b[39m\u001b[33m\"\u001b[39m)  \n",
      "\u001b[31mNameError\u001b[39m: name 'combined_df' is not defined"
     ]
    }
   ],
   "source": [
    "#Save to pickle\n",
    "#combined_df.to_pickle(\"./dummy.pkl\")  "
   ]
  }
 ],
 "metadata": {
  "kernelspec": {
   "display_name": "eelbrain",
   "language": "python",
   "name": "eelbrain"
  },
  "language_info": {
   "codemirror_mode": {
    "name": "ipython",
    "version": 3
   },
   "file_extension": ".py",
   "mimetype": "text/x-python",
   "name": "python",
   "nbconvert_exporter": "python",
   "pygments_lexer": "ipython3",
   "version": "3.12.11"
  }
 },
 "nbformat": 4,
 "nbformat_minor": 5
}
