{
 "cells": [
  {
   "cell_type": "code",
   "execution_count": null,
   "id": "c7af4c59-ff19-4a8d-90f5-25826f373d67",
   "metadata": {},
   "outputs": [],
   "source": [
    "import pandas as pd\n",
    "import os"
   ]
  },
  {
   "cell_type": "code",
   "execution_count": null,
   "id": "74dae6e1-b91c-43ec-809d-17cc4771a774",
   "metadata": {},
   "outputs": [],
   "source": [
    "combined_dir = \"C:/Users/stell/OneDrive/desktop/CANS_LAB/compare_timings\"\n",
    "output_folder = \"C:/Users/stell/OneDrive/desktop/CANS_LAB/BETTER\"\n",
    "\n",
    "# Define word columns and window size\n",
    "word_columns = ['text', 'Word', 'Wav2vec2_word', 'MFA_word', 'Vosk_word']  # Replace with yours\n",
    "\n",
    "timing_map = {\n",
    "    'text': ['tmin', 'tmax'],\n",
    "    'Word': ['Start', 'End'],\n",
    "    'Wav2vec2_word': ['Wav2vec2_start', 'Wav2vec2_end'],\n",
    "    'MFA_word': ['MFA_Start', 'MFA_End'],\n",
    "    'Vosk_word': ['Vosk_Start', 'Vosk_End']\n",
    "}\n",
    "\n",
    "reference_col = 'text'  # Original timing\n",
    "window_size = 5"
   ]
  },
  {
   "cell_type": "code",
   "execution_count": 5,
   "id": "21724081-dcb0-4e3e-ad04-e8b5fb1fbfa3",
   "metadata": {},
   "outputs": [
    {
     "name": "stderr",
     "output_type": "stream",
     "text": [
      "C:\\Users\\stell\\AppData\\Local\\Temp\\ipykernel_9128\\947887744.py:5: FutureWarning: DataFrame.applymap has been deprecated. Use DataFrame.map instead.\n",
      "  df_words = df[word_columns].applymap(lambda x: str(x).lower() if isinstance(x, str) else '')\n",
      "C:\\Users\\stell\\AppData\\Local\\Temp\\ipykernel_9128\\947887744.py:5: FutureWarning: DataFrame.applymap has been deprecated. Use DataFrame.map instead.\n",
      "  df_words = df[word_columns].applymap(lambda x: str(x).lower() if isinstance(x, str) else '')\n",
      "C:\\Users\\stell\\AppData\\Local\\Temp\\ipykernel_9128\\947887744.py:5: FutureWarning: DataFrame.applymap has been deprecated. Use DataFrame.map instead.\n",
      "  df_words = df[word_columns].applymap(lambda x: str(x).lower() if isinstance(x, str) else '')\n",
      "C:\\Users\\stell\\AppData\\Local\\Temp\\ipykernel_9128\\947887744.py:5: FutureWarning: DataFrame.applymap has been deprecated. Use DataFrame.map instead.\n",
      "  df_words = df[word_columns].applymap(lambda x: str(x).lower() if isinstance(x, str) else '')\n",
      "C:\\Users\\stell\\AppData\\Local\\Temp\\ipykernel_9128\\947887744.py:5: FutureWarning: DataFrame.applymap has been deprecated. Use DataFrame.map instead.\n",
      "  df_words = df[word_columns].applymap(lambda x: str(x).lower() if isinstance(x, str) else '')\n",
      "C:\\Users\\stell\\AppData\\Local\\Temp\\ipykernel_9128\\947887744.py:5: FutureWarning: DataFrame.applymap has been deprecated. Use DataFrame.map instead.\n",
      "  df_words = df[word_columns].applymap(lambda x: str(x).lower() if isinstance(x, str) else '')\n"
     ]
    },
    {
     "name": "stdout",
     "output_type": "stream",
     "text": [
      "Saved CSV: C:/Users/stell/OneDrive/desktop/CANS_LAB/BETTER\\F03_single105_combined_filtered.csv\n",
      "Saved CSV: C:/Users/stell/OneDrive/desktop/CANS_LAB/BETTER\\F05_single105_combined_filtered.csv\n",
      "Saved CSV: C:/Users/stell/OneDrive/desktop/CANS_LAB/BETTER\\F07_single105_combined_filtered.csv\n",
      "Saved CSV: C:/Users/stell/OneDrive/desktop/CANS_LAB/BETTER\\F11_single105_combined_filtered.csv\n",
      "Saved CSV: C:/Users/stell/OneDrive/desktop/CANS_LAB/BETTER\\F12_single105_combined_filtered.csv\n",
      "Saved CSV: C:/Users/stell/OneDrive/desktop/CANS_LAB/BETTER\\F15_single105_combined_filtered.csv\n",
      "Saved CSV: C:/Users/stell/OneDrive/desktop/CANS_LAB/BETTER\\F16_single105_combined_filtered.csv\n",
      "Saved CSV: C:/Users/stell/OneDrive/desktop/CANS_LAB/BETTER\\F19_single105_combined_filtered.csv\n",
      "Saved CSV: C:/Users/stell/OneDrive/desktop/CANS_LAB/BETTER\\F21_single105_combined_filtered.csv\n",
      "Saved CSV: C:/Users/stell/OneDrive/desktop/CANS_LAB/BETTER\\F22_single105_combined_filtered.csv\n",
      "Saved CSV: C:/Users/stell/OneDrive/desktop/CANS_LAB/BETTER\\F23_single105_combined_filtered.csv\n"
     ]
    },
    {
     "name": "stderr",
     "output_type": "stream",
     "text": [
      "C:\\Users\\stell\\AppData\\Local\\Temp\\ipykernel_9128\\947887744.py:5: FutureWarning: DataFrame.applymap has been deprecated. Use DataFrame.map instead.\n",
      "  df_words = df[word_columns].applymap(lambda x: str(x).lower() if isinstance(x, str) else '')\n",
      "C:\\Users\\stell\\AppData\\Local\\Temp\\ipykernel_9128\\947887744.py:5: FutureWarning: DataFrame.applymap has been deprecated. Use DataFrame.map instead.\n",
      "  df_words = df[word_columns].applymap(lambda x: str(x).lower() if isinstance(x, str) else '')\n",
      "C:\\Users\\stell\\AppData\\Local\\Temp\\ipykernel_9128\\947887744.py:5: FutureWarning: DataFrame.applymap has been deprecated. Use DataFrame.map instead.\n",
      "  df_words = df[word_columns].applymap(lambda x: str(x).lower() if isinstance(x, str) else '')\n",
      "C:\\Users\\stell\\AppData\\Local\\Temp\\ipykernel_9128\\947887744.py:5: FutureWarning: DataFrame.applymap has been deprecated. Use DataFrame.map instead.\n",
      "  df_words = df[word_columns].applymap(lambda x: str(x).lower() if isinstance(x, str) else '')\n",
      "C:\\Users\\stell\\AppData\\Local\\Temp\\ipykernel_9128\\947887744.py:5: FutureWarning: DataFrame.applymap has been deprecated. Use DataFrame.map instead.\n",
      "  df_words = df[word_columns].applymap(lambda x: str(x).lower() if isinstance(x, str) else '')\n"
     ]
    }
   ],
   "source": [
    "for filename in os.listdir(combined_dir):\n",
    "    \n",
    "    if filename.lower().endswith('_combined.csv'):\n",
    "    \n",
    "        #make into a single path\n",
    "        combined_path = os.path.join(combined_dir, filename)\n",
    "\n",
    "        df_combined = pd.read_csv(combined_path)\n",
    "\n",
    "\n",
    "        #apply function to each\n",
    "        fixed = fix_misalignments(df_combined)\n",
    "\n",
    "        base_name = os.path.splitext(filename)[0] + \"_filtered\"\n",
    "        \n",
    "        csv_path = os.path.join(output_folder, f\"{base_name}.csv\")\n",
    "\n",
    "        #-----One time thing\n",
    "        fixed.rename(columns = {\n",
    "            'Start': 'WhisperX_start',\n",
    "            'End': 'WhisperX_end'\n",
    "        }, inplace = True)\n",
    "\n",
    "        \n",
    "        fixed.to_csv(csv_path, index=False, float_format=\"%.7f\")\n",
    "        #--------\n",
    "        \n",
    "        print(f\"Saved CSV: {csv_path}\")\n",
    "        "
   ]
  },
  {
   "cell_type": "code",
   "execution_count": 3,
   "id": "d597ece8-a95c-4ed1-858a-776641c7f836",
   "metadata": {},
   "outputs": [],
   "source": [
    "def fix_misalignments(df):\n",
    "    \n",
    "    \n",
    "    # Lowercased version of words for matching\n",
    "    df_words = df[word_columns].applymap(lambda x: str(x).lower() if isinstance(x, str) else '')\n",
    "    \n",
    "    # Prepare output rows\n",
    "    aligned_rows = []\n",
    "    word_counters = {}\n",
    "    \n",
    "    for i, ref_word in df_words[reference_col].items():\n",
    "        if not ref_word:\n",
    "            continue\n",
    "    \n",
    "        original_word = df.at[i, reference_col]  # preserve original casing\n",
    "\n",
    "        word_key = f\"{original_word}_{i}\"\n",
    "\n",
    "        match_info = {'Word': original_word}\n",
    "        \n",
    "        all_found = True\n",
    "        for col in word_columns:\n",
    "            found = False\n",
    "            word_window = df_words[col].iloc[max(0, i - window_size): min(len(df), i + window_size + 1)]\n",
    "            \n",
    "            for j in word_window.index:\n",
    "                \n",
    "                if df_words.at[j, col] == ref_word:\n",
    "                    col_word_key = f\"{df.at[j, col]}_{j}\"\n",
    "                    if col_word_key not in word_counters:\n",
    "                        # Store the timing info for this matched row\n",
    "                        for timing_col in timing_map[col]:\n",
    "                            match_info[f\"{timing_col}\"] = df.at[j, timing_col]\n",
    "                        word_counters[col_word_key] = True\n",
    "                        found = True\n",
    "                        break\n",
    "            if not found:\n",
    "                all_found = False\n",
    "                break\n",
    "    \n",
    "        if all_found:\n",
    "            aligned_rows.append(match_info)\n",
    "             # Mark the reference word as matched\n",
    "            word_counters[word_key] = True\n",
    "            \n",
    "    # Create final DataFrame\n",
    "    aligned_df = pd.DataFrame(aligned_rows)\n",
    "\n",
    "    return aligned_df"
   ]
  }
 ],
 "metadata": {
  "kernelspec": {
   "display_name": "eelbrain",
   "language": "python",
   "name": "eelbrain"
  },
  "language_info": {
   "codemirror_mode": {
    "name": "ipython",
    "version": 3
   },
   "file_extension": ".py",
   "mimetype": "text/x-python",
   "name": "python",
   "nbconvert_exporter": "python",
   "pygments_lexer": "ipython3",
   "version": "3.12.11"
  }
 },
 "nbformat": 4,
 "nbformat_minor": 5
}
